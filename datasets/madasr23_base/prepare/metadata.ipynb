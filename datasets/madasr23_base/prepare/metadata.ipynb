{
 "cells": [
  {
   "cell_type": "markdown",
   "metadata": {},
   "source": [
    "# Create a dataset\n"
   ]
  },
  {
   "cell_type": "code",
   "execution_count": 15,
   "metadata": {},
   "outputs": [],
   "source": [
    "corpus = \"bn\"\n",
    "language = \"bn\"\n",
    "dir_data = \"/path/to/RESPIN_ASRU_Challenge_2023\"\n",
    "origin_file_path = [f\"{dir_data}/corpus/{corpus}/train/text\", f\"{dir_data}/corpus/{corpus}/dev/text\"]"
   ]
  },
  {
   "cell_type": "code",
   "execution_count": 16,
   "metadata": {},
   "outputs": [],
   "source": [
    "import pandas as pd\n",
    "from phonemizer import phonemize"
   ]
  },
  {
   "cell_type": "markdown",
   "metadata": {},
   "source": [
    "### Read and combine data from all files\n",
    "\n",
    "The data looks like this:\n",
    "\n",
    "`sid` _ `txtid` _ `uttid` `text`\n",
    "\n",
    "`16777288` _ `629046` _ `281474981563595` `\"বাঁশের প্রায়\"`\n"
   ]
  },
  {
   "cell_type": "code",
   "execution_count": 17,
   "metadata": {},
   "outputs": [
    {
     "name": "stdout",
     "output_type": "stream",
     "text": [
      "Number of lines: 581236\n"
     ]
    },
    {
     "data": {
      "text/html": [
       "<div>\n",
       "<style scoped>\n",
       "    .dataframe tbody tr th:only-of-type {\n",
       "        vertical-align: middle;\n",
       "    }\n",
       "\n",
       "    .dataframe tbody tr th {\n",
       "        vertical-align: top;\n",
       "    }\n",
       "\n",
       "    .dataframe thead th {\n",
       "        text-align: right;\n",
       "    }\n",
       "</style>\n",
       "<table border=\"1\" class=\"dataframe\">\n",
       "  <thead>\n",
       "    <tr style=\"text-align: right;\">\n",
       "      <th></th>\n",
       "      <th>0</th>\n",
       "    </tr>\n",
       "  </thead>\n",
       "  <tbody>\n",
       "    <tr>\n",
       "      <th>0</th>\n",
       "      <td>16777288_629046_281474981563595 বাঁশের প্রায় দ...</td>\n",
       "    </tr>\n",
       "    <tr>\n",
       "      <th>1</th>\n",
       "      <td>16777288_629072_281474981405386 এক ধরনের পদ্ধত...</td>\n",
       "    </tr>\n",
       "    <tr>\n",
       "      <th>2</th>\n",
       "      <td>16777288_629108_281474981563619 গুগলি বা ঝিনুক...</td>\n",
       "    </tr>\n",
       "    <tr>\n",
       "      <th>3</th>\n",
       "      <td>16777288_629112_281474981581650 বাগ আরশোলা ইত্...</td>\n",
       "    </tr>\n",
       "    <tr>\n",
       "      <th>4</th>\n",
       "      <td>16777288_629121_281474981582236 প্রাকৃতিক সব জ...</td>\n",
       "    </tr>\n",
       "  </tbody>\n",
       "</table>\n",
       "</div>"
      ],
      "text/plain": [
       "                                                   0\n",
       "0  16777288_629046_281474981563595 বাঁশের প্রায় দ...\n",
       "1  16777288_629072_281474981405386 এক ধরনের পদ্ধত...\n",
       "2  16777288_629108_281474981563619 গুগলি বা ঝিনুক...\n",
       "3  16777288_629112_281474981581650 বাগ আরশোলা ইত্...\n",
       "4  16777288_629121_281474981582236 প্রাকৃতিক সব জ..."
      ]
     },
     "execution_count": 17,
     "metadata": {},
     "output_type": "execute_result"
    }
   ],
   "source": [
    "data = pd.concat([pd.read_csv(path, sep=\"\\t\", header=None) for path in origin_file_path], ignore_index=True)\n",
    "print(\"Number of lines:\", len(data))\n",
    "data.head()"
   ]
  },
  {
   "cell_type": "markdown",
   "metadata": {},
   "source": [
    "### Convert the data to the format of sid txtid uttid text, where each value in own column\n"
   ]
  },
  {
   "cell_type": "code",
   "execution_count": 18,
   "metadata": {},
   "outputs": [
    {
     "data": {
      "text/html": [
       "<div>\n",
       "<style scoped>\n",
       "    .dataframe tbody tr th:only-of-type {\n",
       "        vertical-align: middle;\n",
       "    }\n",
       "\n",
       "    .dataframe tbody tr th {\n",
       "        vertical-align: top;\n",
       "    }\n",
       "\n",
       "    .dataframe thead th {\n",
       "        text-align: right;\n",
       "    }\n",
       "</style>\n",
       "<table border=\"1\" class=\"dataframe\">\n",
       "  <thead>\n",
       "    <tr style=\"text-align: right;\">\n",
       "      <th></th>\n",
       "      <th>spkid</th>\n",
       "      <th>txtid</th>\n",
       "      <th>uttid</th>\n",
       "      <th>text</th>\n",
       "    </tr>\n",
       "  </thead>\n",
       "  <tbody>\n",
       "    <tr>\n",
       "      <th>0</th>\n",
       "      <td>16777288</td>\n",
       "      <td>629046</td>\n",
       "      <td>281474981563595</td>\n",
       "      <td>বাঁশের প্রায় দশ হাজার প্রজাতি হয় যেমন বাম্বুসা...</td>\n",
       "    </tr>\n",
       "    <tr>\n",
       "      <th>1</th>\n",
       "      <td>16777288</td>\n",
       "      <td>629072</td>\n",
       "      <td>281474981405386</td>\n",
       "      <td>এক ধরনের পদ্ধতি যেটা দিয়ে শস্য থেকে খোসা ছাড়ান...</td>\n",
       "    </tr>\n",
       "    <tr>\n",
       "      <th>2</th>\n",
       "      <td>16777288</td>\n",
       "      <td>629108</td>\n",
       "      <td>281474981563619</td>\n",
       "      <td>গুগলি বা ঝিনুকের মানে হল ওয়েস্টার আমরা খাই</td>\n",
       "    </tr>\n",
       "    <tr>\n",
       "      <th>3</th>\n",
       "      <td>16777288</td>\n",
       "      <td>629112</td>\n",
       "      <td>281474981581650</td>\n",
       "      <td>বাগ আরশোলা ইত্যাদি সব পোকা গুলোর চাষ হয়</td>\n",
       "    </tr>\n",
       "    <tr>\n",
       "      <th>4</th>\n",
       "      <td>16777288</td>\n",
       "      <td>629121</td>\n",
       "      <td>281474981582236</td>\n",
       "      <td>প্রাকৃতিক সব জিনিস গুলো দিয়া যখন চাষ করা হয়</td>\n",
       "    </tr>\n",
       "  </tbody>\n",
       "</table>\n",
       "</div>"
      ],
      "text/plain": [
       "      spkid   txtid            uttid  \\\n",
       "0  16777288  629046  281474981563595   \n",
       "1  16777288  629072  281474981405386   \n",
       "2  16777288  629108  281474981563619   \n",
       "3  16777288  629112  281474981581650   \n",
       "4  16777288  629121  281474981582236   \n",
       "\n",
       "                                                text  \n",
       "0  বাঁশের প্রায় দশ হাজার প্রজাতি হয় যেমন বাম্বুসা...  \n",
       "1  এক ধরনের পদ্ধতি যেটা দিয়ে শস্য থেকে খোসা ছাড়ান...  \n",
       "2         গুগলি বা ঝিনুকের মানে হল ওয়েস্টার আমরা খাই  \n",
       "3            বাগ আরশোলা ইত্যাদি সব পোকা গুলোর চাষ হয়  \n",
       "4        প্রাকৃতিক সব জিনিস গুলো দিয়া যখন চাষ করা হয়  "
      ]
     },
     "execution_count": 18,
     "metadata": {},
     "output_type": "execute_result"
    }
   ],
   "source": [
    "data = data[0].str.split(\"_\", n=2, expand=True)\n",
    "\n",
    "data = pd.concat([data[0], data[1], data[2].str.split(\" \", n=1, expand=True)], axis=1)\n",
    "data.columns = [\"spkid\", \"txtid\", \"uttid\", \"text\"]\n",
    "data.head()"
   ]
  },
  {
   "cell_type": "markdown",
   "metadata": {},
   "source": [
    "### Map speaker ids to indices with sorted order\n"
   ]
  },
  {
   "cell_type": "code",
   "execution_count": 19,
   "metadata": {},
   "outputs": [
    {
     "data": {
      "text/html": [
       "<div>\n",
       "<style scoped>\n",
       "    .dataframe tbody tr th:only-of-type {\n",
       "        vertical-align: middle;\n",
       "    }\n",
       "\n",
       "    .dataframe tbody tr th {\n",
       "        vertical-align: top;\n",
       "    }\n",
       "\n",
       "    .dataframe thead th {\n",
       "        text-align: right;\n",
       "    }\n",
       "</style>\n",
       "<table border=\"1\" class=\"dataframe\">\n",
       "  <thead>\n",
       "    <tr style=\"text-align: right;\">\n",
       "      <th></th>\n",
       "      <th>spkidx</th>\n",
       "      <th>spkid</th>\n",
       "      <th>txtid</th>\n",
       "      <th>uttid</th>\n",
       "      <th>text</th>\n",
       "    </tr>\n",
       "  </thead>\n",
       "  <tbody>\n",
       "    <tr>\n",
       "      <th>0</th>\n",
       "      <td>0</td>\n",
       "      <td>16777288</td>\n",
       "      <td>629046</td>\n",
       "      <td>281474981563595</td>\n",
       "      <td>বাঁশের প্রায় দশ হাজার প্রজাতি হয় যেমন বাম্বুসা...</td>\n",
       "    </tr>\n",
       "    <tr>\n",
       "      <th>1</th>\n",
       "      <td>0</td>\n",
       "      <td>16777288</td>\n",
       "      <td>629072</td>\n",
       "      <td>281474981405386</td>\n",
       "      <td>এক ধরনের পদ্ধতি যেটা দিয়ে শস্য থেকে খোসা ছাড়ান...</td>\n",
       "    </tr>\n",
       "    <tr>\n",
       "      <th>2</th>\n",
       "      <td>0</td>\n",
       "      <td>16777288</td>\n",
       "      <td>629108</td>\n",
       "      <td>281474981563619</td>\n",
       "      <td>গুগলি বা ঝিনুকের মানে হল ওয়েস্টার আমরা খাই</td>\n",
       "    </tr>\n",
       "    <tr>\n",
       "      <th>3</th>\n",
       "      <td>0</td>\n",
       "      <td>16777288</td>\n",
       "      <td>629112</td>\n",
       "      <td>281474981581650</td>\n",
       "      <td>বাগ আরশোলা ইত্যাদি সব পোকা গুলোর চাষ হয়</td>\n",
       "    </tr>\n",
       "    <tr>\n",
       "      <th>4</th>\n",
       "      <td>0</td>\n",
       "      <td>16777288</td>\n",
       "      <td>629121</td>\n",
       "      <td>281474981582236</td>\n",
       "      <td>প্রাকৃতিক সব জিনিস গুলো দিয়া যখন চাষ করা হয়</td>\n",
       "    </tr>\n",
       "  </tbody>\n",
       "</table>\n",
       "</div>"
      ],
      "text/plain": [
       "   spkidx     spkid   txtid            uttid  \\\n",
       "0       0  16777288  629046  281474981563595   \n",
       "1       0  16777288  629072  281474981405386   \n",
       "2       0  16777288  629108  281474981563619   \n",
       "3       0  16777288  629112  281474981581650   \n",
       "4       0  16777288  629121  281474981582236   \n",
       "\n",
       "                                                text  \n",
       "0  বাঁশের প্রায় দশ হাজার প্রজাতি হয় যেমন বাম্বুসা...  \n",
       "1  এক ধরনের পদ্ধতি যেটা দিয়ে শস্য থেকে খোসা ছাড়ান...  \n",
       "2         গুগলি বা ঝিনুকের মানে হল ওয়েস্টার আমরা খাই  \n",
       "3            বাগ আরশোলা ইত্যাদি সব পোকা গুলোর চাষ হয়  \n",
       "4        প্রাকৃতিক সব জিনিস গুলো দিয়া যখন চাষ করা হয়  "
      ]
     },
     "execution_count": 19,
     "metadata": {},
     "output_type": "execute_result"
    }
   ],
   "source": [
    "spkid_to_idx = {spkid: idx for idx, spkid in enumerate(sorted(data.spkid.unique()))}\n",
    "spkidx = data[\"spkid\"].map(spkid_to_idx)\n",
    "\n",
    "spkidx = pd.DataFrame(spkidx)\n",
    "spkidx.columns = [\"spkidx\"]\n",
    "data = pd.concat([spkidx, data], axis=1)\n",
    "data.head()"
   ]
  },
  {
   "cell_type": "code",
   "execution_count": 20,
   "metadata": {},
   "outputs": [
    {
     "name": "stdout",
     "output_type": "stream",
     "text": [
      "Number of speakers: 2011\n"
     ]
    }
   ],
   "source": [
    "# Number of speakers\n",
    "print(\"Number of speakers:\", len(data.spkidx.unique()))"
   ]
  },
  {
   "cell_type": "markdown",
   "metadata": {},
   "source": [
    "### Convert the text to phonemes\n",
    "\n",
    "It may take a while. F.e. 500_000 lines of text ~ 30 minutes\n"
   ]
  },
  {
   "cell_type": "code",
   "execution_count": 21,
   "metadata": {},
   "outputs": [
    {
     "data": {
      "text/html": [
       "<div>\n",
       "<style scoped>\n",
       "    .dataframe tbody tr th:only-of-type {\n",
       "        vertical-align: middle;\n",
       "    }\n",
       "\n",
       "    .dataframe tbody tr th {\n",
       "        vertical-align: top;\n",
       "    }\n",
       "\n",
       "    .dataframe thead th {\n",
       "        text-align: right;\n",
       "    }\n",
       "</style>\n",
       "<table border=\"1\" class=\"dataframe\">\n",
       "  <thead>\n",
       "    <tr style=\"text-align: right;\">\n",
       "      <th></th>\n",
       "      <th>spkidx</th>\n",
       "      <th>spkid</th>\n",
       "      <th>txtid</th>\n",
       "      <th>uttid</th>\n",
       "      <th>text</th>\n",
       "      <th>phonemized_text</th>\n",
       "    </tr>\n",
       "  </thead>\n",
       "  <tbody>\n",
       "    <tr>\n",
       "      <th>0</th>\n",
       "      <td>0</td>\n",
       "      <td>16777288</td>\n",
       "      <td>629046</td>\n",
       "      <td>281474981563595</td>\n",
       "      <td>বাঁশের প্রায় দশ হাজার প্রজাতি হয় যেমন বাম্বুসা...</td>\n",
       "      <td>bˈãʃeɾ pɾˈajo dˈɔʃ hˈaɟaɾ pɾˈoɟatˌi hˈɔjo d͡ʒ...</td>\n",
       "    </tr>\n",
       "    <tr>\n",
       "      <th>1</th>\n",
       "      <td>0</td>\n",
       "      <td>16777288</td>\n",
       "      <td>629072</td>\n",
       "      <td>281474981405386</td>\n",
       "      <td>এক ধরনের পদ্ধতি যেটা দিয়ে শস্য থেকে খোসা ছাড়ান...</td>\n",
       "      <td>ˈek dʰˈɔɾɔnˌeɾ pˈɔddʰɔtˌi d͡ʒˈeʈa dˈie ʃˈɔssɔ ...</td>\n",
       "    </tr>\n",
       "    <tr>\n",
       "      <th>2</th>\n",
       "      <td>0</td>\n",
       "      <td>16777288</td>\n",
       "      <td>629108</td>\n",
       "      <td>281474981563619</td>\n",
       "      <td>গুগলি বা ঝিনুকের মানে হল ওয়েস্টার আমরা খাই</td>\n",
       "      <td>ɡˈuɡɔlˌi bˈa ɟʰˈinukˌeɾ mˈane hˈɔl ˈoːeʃʈˌaɾ ˌ...</td>\n",
       "    </tr>\n",
       "    <tr>\n",
       "      <th>3</th>\n",
       "      <td>0</td>\n",
       "      <td>16777288</td>\n",
       "      <td>629112</td>\n",
       "      <td>281474981581650</td>\n",
       "      <td>বাগ আরশোলা ইত্যাদি সব পোকা গুলোর চাষ হয়</td>\n",
       "      <td>bˈaɡ ˈaɾɔʃˌola ˈitædˌi ʃˈɔb pˈoka ɡˈuloɾ t͡ʃˈa...</td>\n",
       "    </tr>\n",
       "    <tr>\n",
       "      <th>4</th>\n",
       "      <td>0</td>\n",
       "      <td>16777288</td>\n",
       "      <td>629121</td>\n",
       "      <td>281474981582236</td>\n",
       "      <td>প্রাকৃতিক সব জিনিস গুলো দিয়া যখন চাষ করা হয়</td>\n",
       "      <td>pɾakɾˈitik ʃˈɔb ɟˈiniʃ ɡˈulo dˈia d͡ʒˈɔkʰɔn t͡...</td>\n",
       "    </tr>\n",
       "  </tbody>\n",
       "</table>\n",
       "</div>"
      ],
      "text/plain": [
       "   spkidx     spkid   txtid            uttid  \\\n",
       "0       0  16777288  629046  281474981563595   \n",
       "1       0  16777288  629072  281474981405386   \n",
       "2       0  16777288  629108  281474981563619   \n",
       "3       0  16777288  629112  281474981581650   \n",
       "4       0  16777288  629121  281474981582236   \n",
       "\n",
       "                                                text  \\\n",
       "0  বাঁশের প্রায় দশ হাজার প্রজাতি হয় যেমন বাম্বুসা...   \n",
       "1  এক ধরনের পদ্ধতি যেটা দিয়ে শস্য থেকে খোসা ছাড়ান...   \n",
       "2         গুগলি বা ঝিনুকের মানে হল ওয়েস্টার আমরা খাই   \n",
       "3            বাগ আরশোলা ইত্যাদি সব পোকা গুলোর চাষ হয়   \n",
       "4        প্রাকৃতিক সব জিনিস গুলো দিয়া যখন চাষ করা হয়   \n",
       "\n",
       "                                     phonemized_text  \n",
       "0  bˈãʃeɾ pɾˈajo dˈɔʃ hˈaɟaɾ pɾˈoɟatˌi hˈɔjo d͡ʒ...  \n",
       "1  ˈek dʰˈɔɾɔnˌeɾ pˈɔddʰɔtˌi d͡ʒˈeʈa dˈie ʃˈɔssɔ ...  \n",
       "2  ɡˈuɡɔlˌi bˈa ɟʰˈinukˌeɾ mˈane hˈɔl ˈoːeʃʈˌaɾ ˌ...  \n",
       "3  bˈaɡ ˈaɾɔʃˌola ˈitædˌi ʃˈɔb pˈoka ɡˈuloɾ t͡ʃˈa...  \n",
       "4  pɾakɾˈitik ʃˈɔb ɟˈiniʃ ɡˈulo dˈia d͡ʒˈɔkʰɔn t͡...  "
      ]
     },
     "execution_count": 21,
     "metadata": {},
     "output_type": "execute_result"
    }
   ],
   "source": [
    "phonemes = phonemize(data[\"text\"], backend=\"espeak\", language=language, strip=True, preserve_punctuation=True, with_stress=True, tie=True, njobs=16)\n",
    "data = data.assign(phonemized_text=phonemes)\n",
    "data.head()"
   ]
  },
  {
   "cell_type": "code",
   "execution_count": 22,
   "metadata": {},
   "outputs": [
    {
     "name": "stdout",
     "output_type": "stream",
     "text": [
      "Number of lines: 581236\n"
     ]
    }
   ],
   "source": [
    "print(\"Number of lines:\", len(data))"
   ]
  },
  {
   "cell_type": "markdown",
   "metadata": {},
   "source": [
    "### Save the data to .csv file\n"
   ]
  },
  {
   "cell_type": "code",
   "execution_count": 23,
   "metadata": {},
   "outputs": [],
   "source": [
    "# data = data.iloc[:100]\n",
    "\n",
    "data.to_csv(f\"../filelists/metadata.csv\", sep=\"|\", index=False)"
   ]
  },
  {
   "cell_type": "code",
   "execution_count": null,
   "metadata": {},
   "outputs": [],
   "source": []
  }
 ],
 "metadata": {
  "kernelspec": {
   "display_name": "py10",
   "language": "python",
   "name": "python3"
  },
  "language_info": {
   "codemirror_mode": {
    "name": "ipython",
    "version": 3
   },
   "file_extension": ".py",
   "mimetype": "text/x-python",
   "name": "python",
   "nbconvert_exporter": "python",
   "pygments_lexer": "ipython3",
   "version": "3.11.4"
  },
  "orig_nbformat": 4
 },
 "nbformat": 4,
 "nbformat_minor": 2
}
